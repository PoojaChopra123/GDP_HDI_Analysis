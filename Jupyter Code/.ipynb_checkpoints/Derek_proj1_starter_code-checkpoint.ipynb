{
 "cells": [
  {
   "cell_type": "code",
   "execution_count": 7,
   "metadata": {},
   "outputs": [],
   "source": [
    "# Dependencies\n",
    "import csv\n",
    "import matplotlib.pyplot as plt\n",
    "import requests\n",
    "import pandas as pd\n",
    "from config import API_key\n",
    "import json\n",
    "import numpy as np\n",
    "from pprint import pprint\n",
    "import quandl"
   ]
  },
  {
   "cell_type": "code",
   "execution_count": 17,
   "metadata": {},
   "outputs": [
    {
     "data": {
      "text/html": [
       "<div>\n",
       "<style scoped>\n",
       "    .dataframe tbody tr th:only-of-type {\n",
       "        vertical-align: middle;\n",
       "    }\n",
       "\n",
       "    .dataframe tbody tr th {\n",
       "        vertical-align: top;\n",
       "    }\n",
       "\n",
       "    .dataframe thead th {\n",
       "        text-align: right;\n",
       "    }\n",
       "</style>\n",
       "<table border=\"1\" class=\"dataframe\">\n",
       "  <thead>\n",
       "    <tr style=\"text-align: right;\">\n",
       "      <th></th>\n",
       "      <th>Country</th>\n",
       "      <th>Code</th>\n",
       "    </tr>\n",
       "  </thead>\n",
       "  <tbody>\n",
       "    <tr>\n",
       "      <th>0</th>\n",
       "      <td>Afghanistan</td>\n",
       "      <td>AFG</td>\n",
       "    </tr>\n",
       "    <tr>\n",
       "      <th>1</th>\n",
       "      <td>Africa</td>\n",
       "      <td>AFR</td>\n",
       "    </tr>\n",
       "    <tr>\n",
       "      <th>2</th>\n",
       "      <td>Albania</td>\n",
       "      <td>ALB</td>\n",
       "    </tr>\n",
       "    <tr>\n",
       "      <th>3</th>\n",
       "      <td>Algeria</td>\n",
       "      <td>DZA</td>\n",
       "    </tr>\n",
       "    <tr>\n",
       "      <th>4</th>\n",
       "      <td>American Samoa</td>\n",
       "      <td>ASM</td>\n",
       "    </tr>\n",
       "  </tbody>\n",
       "</table>\n",
       "</div>"
      ],
      "text/plain": [
       "          Country Code\n",
       "0     Afghanistan  AFG\n",
       "1          Africa  AFR\n",
       "2         Albania  ALB\n",
       "3         Algeria  DZA\n",
       "4  American Samoa  ASM"
      ]
     },
     "execution_count": 17,
     "metadata": {},
     "output_type": "execute_result"
    }
   ],
   "source": [
    "# import country codes\n",
    "countrycodes = \"../Resources/Quandl_country_codes.csv\"\n",
    "countrycodes_df = pd.read_csv(countrycodes, encoding=\"ISO-8859-1\")\n",
    "countrycodes_df.head()"
   ]
  },
  {
   "cell_type": "code",
   "execution_count": 9,
   "metadata": {},
   "outputs": [
    {
     "data": {
      "text/html": [
       "<div>\n",
       "<style scoped>\n",
       "    .dataframe tbody tr th:only-of-type {\n",
       "        vertical-align: middle;\n",
       "    }\n",
       "\n",
       "    .dataframe tbody tr th {\n",
       "        vertical-align: top;\n",
       "    }\n",
       "\n",
       "    .dataframe thead th {\n",
       "        text-align: right;\n",
       "    }\n",
       "</style>\n",
       "<table border=\"1\" class=\"dataframe\">\n",
       "  <thead>\n",
       "    <tr style=\"text-align: right;\">\n",
       "      <th></th>\n",
       "      <th>Value</th>\n",
       "    </tr>\n",
       "    <tr>\n",
       "      <th>Date</th>\n",
       "      <th></th>\n",
       "    </tr>\n",
       "  </thead>\n",
       "  <tbody>\n",
       "    <tr>\n",
       "      <th>1947-01-01</th>\n",
       "      <td>243.164</td>\n",
       "    </tr>\n",
       "    <tr>\n",
       "      <th>1947-04-01</th>\n",
       "      <td>245.968</td>\n",
       "    </tr>\n",
       "    <tr>\n",
       "      <th>1947-07-01</th>\n",
       "      <td>249.585</td>\n",
       "    </tr>\n",
       "    <tr>\n",
       "      <th>1947-10-01</th>\n",
       "      <td>259.745</td>\n",
       "    </tr>\n",
       "    <tr>\n",
       "      <th>1948-01-01</th>\n",
       "      <td>265.742</td>\n",
       "    </tr>\n",
       "  </tbody>\n",
       "</table>\n",
       "</div>"
      ],
      "text/plain": [
       "              Value\n",
       "Date               \n",
       "1947-01-01  243.164\n",
       "1947-04-01  245.968\n",
       "1947-07-01  249.585\n",
       "1947-10-01  259.745\n",
       "1948-01-01  265.742"
      ]
     },
     "execution_count": 9,
     "metadata": {},
     "output_type": "execute_result"
    }
   ],
   "source": [
    "mydata = quandl.get(\"FRED/GDP\")\n",
    "mydata.head()"
   ]
  },
  {
   "cell_type": "code",
   "execution_count": 16,
   "metadata": {},
   "outputs": [],
   "source": [
    "# Save config information\n",
    "\n",
    "# url = \"https://www.quandl.com/api/v3/datatables/ETFG/FUND.json?ticker=SPY&api_key=\"\n",
    "\n",
    "# https://www.quandl.com/api/v3/datasets/{database_code}/{dataset_code}/data.{return_format}.\n",
    "database_code = \"WEDU\"\n",
    "dataset_code = \"ABW_SE_PRE_ENRL\"\n",
    "\n",
    "url = \"https://www.quandl.com/api/v3/datasets/\" + database_code + \"/\" + dataset_code + \"?column_index=1&api_key=\"\n",
    "\n",
    "# Build query URL\n",
    "query_url = url + API_key "
   ]
  },
  {
   "cell_type": "code",
   "execution_count": 18,
   "metadata": {},
   "outputs": [
    {
     "name": "stdout",
     "output_type": "stream",
     "text": [
      "{'dataset': {'collapse': None,\n",
      "             'column_index': 1,\n",
      "             'column_names': ['Date', 'Value'],\n",
      "             'data': [['2014-12-31', 2811.0],\n",
      "                      ['2013-12-31', 2822.0],\n",
      "                      ['2012-12-31', 2874.0],\n",
      "                      ['2011-12-31', 2782.0],\n",
      "                      ['2010-12-31', 2809.0],\n",
      "                      ['2009-12-31', 2707.0],\n",
      "                      ['2008-12-31', 2740.0],\n",
      "                      ['2007-12-31', 2914.0],\n",
      "                      ['2006-12-31', 2985.0],\n",
      "                      ['2005-12-31', 2821.0],\n",
      "                      ['2004-12-31', 2836.0],\n",
      "                      ['2003-12-31', 2906.0],\n",
      "                      ['2002-12-31', 2895.0],\n",
      "                      ['2001-12-31', 2867.0],\n",
      "                      ['2000-12-31', 2809.0],\n",
      "                      ['1999-12-31', 2712.0]],\n",
      "             'database_code': 'WEDU',\n",
      "             'database_id': 13545,\n",
      "             'dataset_code': 'ABW_SE_PRE_ENRL',\n",
      "             'description': 'Enrolment in pre-primary. Public and private. All '\n",
      "                            'programmes. Total - Aruba. ',\n",
      "             'end_date': '2014-12-31',\n",
      "             'frequency': 'annual',\n",
      "             'id': 21647485,\n",
      "             'limit': None,\n",
      "             'name': 'Enrolment in pre-primary. Public and private. All '\n",
      "                     'programmes. Total - Aruba',\n",
      "             'newest_available_date': '2014-12-31',\n",
      "             'oldest_available_date': '1999-12-31',\n",
      "             'order': None,\n",
      "             'premium': False,\n",
      "             'refreshed_at': '2018-08-24T19:10:51.844Z',\n",
      "             'start_date': '1999-12-31',\n",
      "             'transform': None,\n",
      "             'type': 'Time Series'}}\n"
     ]
    }
   ],
   "source": [
    "# Get weather data\n",
    "response = requests.get(query_url)\n",
    "json = response.json()\n",
    "\n",
    "pprint(json)"
   ]
  },
  {
   "cell_type": "code",
   "execution_count": 22,
   "metadata": {},
   "outputs": [
    {
     "data": {
      "text/plain": [
       "['2013-12-31', 2822.0]"
      ]
     },
     "execution_count": 22,
     "metadata": {},
     "output_type": "execute_result"
    }
   ],
   "source": [
    "name = json[\"dataset\"][\"description\"]\n",
    "data2 = json[\"dataset\"][\"data\"][]\n",
    "data2"
   ]
  },
  {
   "cell_type": "code",
   "execution_count": null,
   "metadata": {},
   "outputs": [],
   "source": []
  }
 ],
 "metadata": {
  "kernelspec": {
   "display_name": "Python 3",
   "language": "python",
   "name": "python3"
  },
  "language_info": {
   "codemirror_mode": {
    "name": "ipython",
    "version": 3
   },
   "file_extension": ".py",
   "mimetype": "text/x-python",
   "name": "python",
   "nbconvert_exporter": "python",
   "pygments_lexer": "ipython3",
   "version": "3.6.5"
  }
 },
 "nbformat": 4,
 "nbformat_minor": 2
}
